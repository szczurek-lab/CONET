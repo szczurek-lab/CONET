{
 "cells": [
  {
   "cell_type": "code",
   "execution_count": 1,
   "metadata": {},
   "outputs": [],
   "source": [
    "#Set this variable to directory containing CONET executable\n",
    "bin_dir = './'"
   ]
  },
  {
   "cell_type": "code",
   "execution_count": null,
   "metadata": {},
   "outputs": [],
   "source": [
    "import sys\n",
    "sys.path.append('../..')\n",
    "import pandas as pd\n",
    "import conet \n",
    "import conet.src.data_converter.data_converter as dc\n",
    "import conet.src.conet as c\n",
    "import conet.src.conet_parameters as cp\n",
    "import conet.src.inference_result as ir"
   ]
  },
  {
   "cell_type": "code",
   "execution_count": null,
   "metadata": {},
   "outputs": [],
   "source": [
    "# Use DataConverter class to convert corrected counts matrix into CONET specific input files\n",
    "data_converter = dc.DataConverter(\"data/SA501X3F_filtered_corrected_counts.csv\", \n",
    "                                  delimiter= ',', \n",
    "                                  default_bin_length = 150000, \n",
    "                                  event_length_normalizer = 3095677412,\n",
    "                                  add_chromosome_ends = True,\n",
    "                                  neutral_cn = 2.0)"
   ]
  },
  {
   "cell_type": "code",
   "execution_count": null,
   "metadata": {},
   "outputs": [],
   "source": [
    "# Converts corrected counts matrix to CONET input files. @chromosomes parameter can be set to restrict inference to \n",
    "# a subset of chromosomes\n",
    "data_converter.create_CoNET_input_files(bin_dir, chromosomes=[17,18, 20, 23], add_chr_ends_to_indices=True)"
   ]
  },
  {
   "cell_type": "code",
   "execution_count": null,
   "metadata": {},
   "outputs": [],
   "source": [
    "# this may take up to 10 minutes\n",
    "conet = c.CONET(bin_dir + \"CONET\")\n",
    "params = cp.CONETParameters(data_size_prior_c = 0.5, data_dir = bin_dir, counts_penalty_c=200000, \n",
    "                            param_inf_iters=30000, seed = 21567, mixture_size=2, pt_inf_iters=200000, neutral_cn =2.0, output_dir = \"./output/\")\n",
    "conet.infer_tree(params)"
   ]
  },
  {
   "cell_type": "code",
   "execution_count": null,
   "metadata": {},
   "outputs": [],
   "source": []
  }
 ],
 "metadata": {
  "celltoolbar": "Raw Cell Format",
  "kernelspec": {
   "display_name": "Python 3",
   "language": "python",
   "name": "python3"
  },
  "language_info": {
   "codemirror_mode": {
    "name": "ipython",
    "version": 3
   },
   "file_extension": ".py",
   "mimetype": "text/x-python",
   "name": "python",
   "nbconvert_exporter": "python",
   "pygments_lexer": "ipython3",
   "version": "3.8.10"
  }
 },
 "nbformat": 4,
 "nbformat_minor": 2
}
