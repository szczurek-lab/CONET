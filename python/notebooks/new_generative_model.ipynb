{
 "cells": [
  {
   "cell_type": "code",
   "execution_count": 144,
   "metadata": {},
   "outputs": [],
   "source": [
    "import numpy as np\n",
    "import networkx as nx\n",
    "import random\n",
    "import networkx as nx\n",
    "import matplotlib.pyplot as plt\n",
    "from networkx.drawing.nx_pydot import graphviz_layout\n",
    "import numpy as np\n",
    "\n",
    "\n",
    "class NodeLabel:\n",
    "    def __init__(self, start, end, copy_number):\n",
    "        self.start = start\n",
    "        self.end = end\n",
    "        self.copy_number = copy_number\n",
    "    \n",
    "    def get_event(self):\n",
    "        return (self.start, self.end)\n",
    "    \n",
    "    def to_string(self):\n",
    "        return \"(\" + str(self.start) + \",\" + str(self.end) + \") CN:\" + str(self.copy_number)\n",
    "    \n",
    "    def overlaps(self, node_label):\n",
    "        return (self.start >= node_label.start and self.start < node_label.end)\\\n",
    "                or (self.end > node_label.start and self.end < node_label.end)\n",
    "            \n",
    "class CNSampler:\n",
    "    #should not contain CN=2\n",
    "    def __init__(self, CN_to_weight, CN_to_sd):\n",
    "        self.CN_to_weight = CN_to_weight\n",
    "        self.CN_to_sd = CN_to_sd\n",
    "        self.NEUTRAL_CN = 2 \n",
    "        \n",
    "    def sample_CN(self):\n",
    "        return np.random.choice(list(self.CN_to_weight.keys()), 1, p = list(self.CN_to_weight.values()))[0]\n",
    "    \n",
    "    def sample_corrected_count(self, count): \n",
    "        cc = count + np.random.normal(0, self.CN_to_sd[int(count)], 1)\n",
    "        while cc < 0:\n",
    "            cc = count + np.random.normal(0, self.CN_to_sd[int(count)], 1)\n",
    "        return cc"
   ]
  },
  {
   "cell_type": "code",
   "execution_count": 145,
   "metadata": {},
   "outputs": [],
   "source": [
    "class TreeGenerator:\n",
    "    def __init__(self, cn_sampler):\n",
    "        self.cn_sampler = cn_sampler\n",
    "        \n",
    "    def generate_random_tree(self, no_loci, tree_size):\n",
    "        tree_nodes_list = self.__sample_node_labels(tree_size, no_loci)\n",
    "        tree = self.__random_tree(tree_nodes_list)\n",
    "        while not self.__check_valid(tree):\n",
    "            tree_nodes_list = self.__sample_node_labels(tree_size, no_loci)\n",
    "            tree = self.__random_tree(tree_nodes_list)\n",
    "        return tree\n",
    "    \n",
    "    def __sample_node_label(self, labels):\n",
    "        norming_constant = 0\n",
    "        for z in labels:\n",
    "            norming_constant += np.exp(0.1 * (z[0] - z[1]))\n",
    "        while True:\n",
    "            label = random.sample(labels, 1)[0]\n",
    "            if np.random.uniform() < np.exp(0.1 * (label[0] - label[1])) / norming_constant:\n",
    "                return label\n",
    "\n",
    "    def __sample_node_labels(self, tree_size, no_loci):\n",
    "        candidates = list(filter(lambda x: x[0] < x[1], [(a, b) for a in range(0, no_loci) for b in range(0, no_loci)]))\n",
    "        result = list()\n",
    "        for n in range(0, tree_size):\n",
    "            label = self.__sample_node_label(candidates)\n",
    "            candidates.remove(label)\n",
    "            result.append(NodeLabel(label[0], label[1], self.cn_sampler.sample_CN()))\n",
    "        result.insert(0, NodeLabel(0, 0, self.cn_sampler.NEUTRAL_CN))\n",
    "        return result\n",
    "    \n",
    "    def __random_tree(self, nodes):\n",
    "        tree = nx.DiGraph()\n",
    "        bit_map = np.zeros(len(nodes))\n",
    "        bit_map[0] = 1\n",
    "        visited = 1\n",
    "        current_node = 0\n",
    "        while len(nodes) > visited:\n",
    "            new_node = random.sample(range(0, len(nodes)), 1)[0]\n",
    "            if bit_map[new_node] == 0.0:\n",
    "                bit_map[new_node] = 1.0\n",
    "                tree.add_edge(nodes[current_node], nodes[new_node])\n",
    "                visited += 1\n",
    "            current_node = new_node\n",
    "        return tree\n",
    "    \n",
    "    def __check_valid(self, tree):\n",
    "        for node in tree:\n",
    "            if node.copy_number == 0:\n",
    "                children = [x[1] for x in list(nx.edge_dfs(tree,list(tree.nodes)[0]))]\n",
    "                for c in children:\n",
    "                    if c.copy_number > 0 and node.overlaps(c):\n",
    "                        return False\n",
    "        return True"
   ]
  },
  {
   "cell_type": "code",
   "execution_count": 151,
   "metadata": {},
   "outputs": [],
   "source": [
    "class CountsGenerator:\n",
    "    def __init__(self, cn_sampler):\n",
    "        self.cn_sampler = cn_sampler\n",
    "        \n",
    "    def generate_data(self, no_loci, tree, no_of_cells):\n",
    "        counts = np.zeros([0, no_loci], dtype=np.float64)\n",
    "        \n",
    "        node_to_counts = self.__fill_node_to_counts(tree, no_loci)\n",
    "        \n",
    "        attachment_probs = np.random.dirichlet(np.ones(len(tree.nodes) - 1)).transpose()\n",
    "        attachment = []\n",
    "        \n",
    "        for cell in range(0, no_of_cells):\n",
    "            attachment_node = random.choices(list(tree.nodes)[1:], k=1, weights=list(attachment_probs))[0]\n",
    "            counts = np.vstack([counts, node_to_counts[attachment_node]])\n",
    "            attachment.append(attachment_node.get_event())\n",
    "        \n",
    "        corrected_counts = self.__add_noise_to_counts(counts)\n",
    "        diff_matrix = self.__create_diff_matrix(corrected_counts)\n",
    "        return counts, attachment, corrected_counts, diff_matrix\n",
    "    \n",
    "    def __fill_node_to_counts(self, tree, no_loci):\n",
    "        counts = np.zeros([1, no_loci], dtype=np.float64)\n",
    "        counts.fill(self.cn_sampler.NEUTRAL_CN)\n",
    "        node_to_counts = {}\n",
    "        \n",
    "        for node in tree:\n",
    "            path = nx.shortest_path(tree, list(tree.nodes)[0], node)\n",
    "            node_counts = np.copy(counts)\n",
    "            for i in range(0, len(path)):\n",
    "                ancestor = path[i]\n",
    "                for j in range(ancestor.start, ancestor.end):\n",
    "                    node_counts[0, j] = ancestor.copy_number\n",
    "            node_to_counts[node] = node_counts    \n",
    "        return node_to_counts\n",
    "    \n",
    "    def __add_noise_to_counts(self, counts):\n",
    "        cc = np.copy(counts)\n",
    "        for i in range(0, counts.shape[0]):\n",
    "            for j in range(0, counts.shape[1]):\n",
    "                cc[i,j] = self.cn_sampler.sample_corrected_count(counts[i,j])\n",
    "        return cc\n",
    "    \n",
    "    def __create_diff_matrix(self, corrected_counts):\n",
    "        diffs = np.copy(corrected_counts)\n",
    "        \n",
    "        for cell in range(0, diffs.shape[0]):\n",
    "            for loci in range(0, diffs.shape[1]):\n",
    "                if loci == 0:\n",
    "                    diffs[cell, loci] = np.abs(corrected_counts[cell, loci] - self.cn_sampler.NEUTRAL_CN)\n",
    "                else:\n",
    "                    diffs[cell, loci] = np.abs(corrected_counts[cell, loci] - corrected_counts[cell, loci - 1])\n",
    "        return diffs"
   ]
  },
  {
   "cell_type": "code",
   "execution_count": 152,
   "metadata": {},
   "outputs": [],
   "source": [
    "cn_s = CNSampler({0 : 0.1, 1 : 0.5, 3 : 0.4}, {0 : 0.1, 1 : 0.5, 3 : 0.4, 2 : 0.5})"
   ]
  },
  {
   "cell_type": "code",
   "execution_count": 153,
   "metadata": {},
   "outputs": [],
   "source": [
    "d = TreeGenerator(cn_s)"
   ]
  },
  {
   "cell_type": "code",
   "execution_count": 164,
   "metadata": {},
   "outputs": [],
   "source": [
    "tree = d.generate_random_tree(40, 10)\n",
    "dd = CountsGenerator(cn_s)\n",
    "data = dd.generate_data(40, tree, 200)\n",
    "\n",
    "ccs = data[2]\n",
    "ccs = ccs.flatten()\n",
    "diffs = data[3]\n",
    "diffs = diffs.flatten()"
   ]
  },
  {
   "cell_type": "code",
   "execution_count": 165,
   "metadata": {},
   "outputs": [
    {
     "ename": "FileNotFoundError",
     "evalue": "[WinError 2] \"dot\" not found in path.",
     "output_type": "error",
     "traceback": [
      "\u001b[1;31m---------------------------------------------------------------------------\u001b[0m",
      "\u001b[1;31mFileNotFoundError\u001b[0m                         Traceback (most recent call last)",
      "\u001b[1;32mC:\\ProgramData\\Anaconda3\\lib\\site-packages\\pydot.py\u001b[0m in \u001b[0;36mcreate\u001b[1;34m(self, prog, format, encoding)\u001b[0m\n\u001b[0;32m   1914\u001b[0m                 \u001b[0marguments\u001b[0m\u001b[1;33m=\u001b[0m\u001b[0marguments\u001b[0m\u001b[1;33m,\u001b[0m\u001b[1;33m\u001b[0m\u001b[1;33m\u001b[0m\u001b[0m\n\u001b[1;32m-> 1915\u001b[1;33m                 \u001b[0mworking_dir\u001b[0m\u001b[1;33m=\u001b[0m\u001b[0mtmp_dir\u001b[0m\u001b[1;33m,\u001b[0m\u001b[1;33m\u001b[0m\u001b[1;33m\u001b[0m\u001b[0m\n\u001b[0m\u001b[0;32m   1916\u001b[0m             )\n",
      "\u001b[1;32mC:\\ProgramData\\Anaconda3\\lib\\site-packages\\pydot.py\u001b[0m in \u001b[0;36mcall_graphviz\u001b[1;34m(program, arguments, working_dir, **kwargs)\u001b[0m\n\u001b[0;32m    135\u001b[0m         \u001b[0mstdout\u001b[0m\u001b[1;33m=\u001b[0m\u001b[0msubprocess\u001b[0m\u001b[1;33m.\u001b[0m\u001b[0mPIPE\u001b[0m\u001b[1;33m,\u001b[0m\u001b[1;33m\u001b[0m\u001b[1;33m\u001b[0m\u001b[0m\n\u001b[1;32m--> 136\u001b[1;33m         \u001b[1;33m**\u001b[0m\u001b[0mkwargs\u001b[0m\u001b[1;33m\u001b[0m\u001b[1;33m\u001b[0m\u001b[0m\n\u001b[0m\u001b[0;32m    137\u001b[0m     )\n",
      "\u001b[1;32mC:\\ProgramData\\Anaconda3\\lib\\subprocess.py\u001b[0m in \u001b[0;36m__init__\u001b[1;34m(self, args, bufsize, executable, stdin, stdout, stderr, preexec_fn, close_fds, shell, cwd, env, universal_newlines, startupinfo, creationflags, restore_signals, start_new_session, pass_fds, encoding, errors, text)\u001b[0m\n\u001b[0;32m    799\u001b[0m                                 \u001b[0merrread\u001b[0m\u001b[1;33m,\u001b[0m \u001b[0merrwrite\u001b[0m\u001b[1;33m,\u001b[0m\u001b[1;33m\u001b[0m\u001b[1;33m\u001b[0m\u001b[0m\n\u001b[1;32m--> 800\u001b[1;33m                                 restore_signals, start_new_session)\n\u001b[0m\u001b[0;32m    801\u001b[0m         \u001b[1;32mexcept\u001b[0m\u001b[1;33m:\u001b[0m\u001b[1;33m\u001b[0m\u001b[1;33m\u001b[0m\u001b[0m\n",
      "\u001b[1;32mC:\\ProgramData\\Anaconda3\\lib\\subprocess.py\u001b[0m in \u001b[0;36m_execute_child\u001b[1;34m(self, args, executable, preexec_fn, close_fds, pass_fds, cwd, env, startupinfo, creationflags, shell, p2cread, p2cwrite, c2pread, c2pwrite, errread, errwrite, unused_restore_signals, unused_start_new_session)\u001b[0m\n\u001b[0;32m   1206\u001b[0m                                          \u001b[0mos\u001b[0m\u001b[1;33m.\u001b[0m\u001b[0mfspath\u001b[0m\u001b[1;33m(\u001b[0m\u001b[0mcwd\u001b[0m\u001b[1;33m)\u001b[0m \u001b[1;32mif\u001b[0m \u001b[0mcwd\u001b[0m \u001b[1;32mis\u001b[0m \u001b[1;32mnot\u001b[0m \u001b[1;32mNone\u001b[0m \u001b[1;32melse\u001b[0m \u001b[1;32mNone\u001b[0m\u001b[1;33m,\u001b[0m\u001b[1;33m\u001b[0m\u001b[1;33m\u001b[0m\u001b[0m\n\u001b[1;32m-> 1207\u001b[1;33m                                          startupinfo)\n\u001b[0m\u001b[0;32m   1208\u001b[0m             \u001b[1;32mfinally\u001b[0m\u001b[1;33m:\u001b[0m\u001b[1;33m\u001b[0m\u001b[1;33m\u001b[0m\u001b[0m\n",
      "\u001b[1;31mFileNotFoundError\u001b[0m: [WinError 2] Nie można odnaleźć określonego pliku",
      "\nDuring handling of the above exception, another exception occurred:\n",
      "\u001b[1;31mFileNotFoundError\u001b[0m                         Traceback (most recent call last)",
      "\u001b[1;32m<ipython-input-165-0169f031038a>\u001b[0m in \u001b[0;36m<module>\u001b[1;34m\u001b[0m\n\u001b[0;32m      1\u001b[0m \u001b[1;31m#Plot the ground truth tree\u001b[0m\u001b[1;33m\u001b[0m\u001b[1;33m\u001b[0m\u001b[1;33m\u001b[0m\u001b[0m\n\u001b[0;32m      2\u001b[0m \u001b[0mplt\u001b[0m\u001b[1;33m.\u001b[0m\u001b[0mfigure\u001b[0m\u001b[1;33m(\u001b[0m\u001b[1;36m3\u001b[0m\u001b[1;33m,\u001b[0m \u001b[0mfigsize\u001b[0m\u001b[1;33m=\u001b[0m\u001b[1;33m(\u001b[0m\u001b[1;36m12\u001b[0m\u001b[1;33m,\u001b[0m\u001b[1;36m12\u001b[0m\u001b[1;33m)\u001b[0m\u001b[1;33m)\u001b[0m\u001b[1;33m\u001b[0m\u001b[1;33m\u001b[0m\u001b[0m\n\u001b[1;32m----> 3\u001b[1;33m \u001b[0mpos\u001b[0m \u001b[1;33m=\u001b[0m \u001b[0mgraphviz_layout\u001b[0m\u001b[1;33m(\u001b[0m\u001b[0mtree\u001b[0m\u001b[1;33m,\u001b[0m \u001b[0mprog\u001b[0m \u001b[1;33m=\u001b[0m \u001b[1;34m\"dot\"\u001b[0m\u001b[1;33m)\u001b[0m\u001b[1;33m\u001b[0m\u001b[1;33m\u001b[0m\u001b[0m\n\u001b[0m\u001b[0;32m      4\u001b[0m nx.draw(tree, pos = pos, with_labels=True, node_color = \"grey\", node_size = 60, verticalalignment = \"bottom\",\n\u001b[0;32m      5\u001b[0m        font_size=20, edge_color=\"grey\", font_color=\"green\")\n",
      "\u001b[1;32mC:\\ProgramData\\Anaconda3\\lib\\site-packages\\networkx\\drawing\\nx_pydot.py\u001b[0m in \u001b[0;36mgraphviz_layout\u001b[1;34m(G, prog, root)\u001b[0m\n\u001b[0;32m    266\u001b[0m     \u001b[0mThis\u001b[0m \u001b[1;32mis\u001b[0m \u001b[0ma\u001b[0m \u001b[0mwrapper\u001b[0m \u001b[1;32mfor\u001b[0m \u001b[0mpydot_layout\u001b[0m\u001b[1;33m.\u001b[0m\u001b[1;33m\u001b[0m\u001b[1;33m\u001b[0m\u001b[0m\n\u001b[0;32m    267\u001b[0m     \"\"\"\n\u001b[1;32m--> 268\u001b[1;33m     \u001b[1;32mreturn\u001b[0m \u001b[0mpydot_layout\u001b[0m\u001b[1;33m(\u001b[0m\u001b[0mG\u001b[0m\u001b[1;33m=\u001b[0m\u001b[0mG\u001b[0m\u001b[1;33m,\u001b[0m \u001b[0mprog\u001b[0m\u001b[1;33m=\u001b[0m\u001b[0mprog\u001b[0m\u001b[1;33m,\u001b[0m \u001b[0mroot\u001b[0m\u001b[1;33m=\u001b[0m\u001b[0mroot\u001b[0m\u001b[1;33m)\u001b[0m\u001b[1;33m\u001b[0m\u001b[1;33m\u001b[0m\u001b[0m\n\u001b[0m\u001b[0;32m    269\u001b[0m \u001b[1;33m\u001b[0m\u001b[0m\n\u001b[0;32m    270\u001b[0m \u001b[1;33m\u001b[0m\u001b[0m\n",
      "\u001b[1;32mC:\\ProgramData\\Anaconda3\\lib\\site-packages\\networkx\\drawing\\nx_pydot.py\u001b[0m in \u001b[0;36mpydot_layout\u001b[1;34m(G, prog, root)\u001b[0m\n\u001b[0;32m    314\u001b[0m     \u001b[1;31m# List of low-level bytes comprising a string in the dot language converted\u001b[0m\u001b[1;33m\u001b[0m\u001b[1;33m\u001b[0m\u001b[1;33m\u001b[0m\u001b[0m\n\u001b[0;32m    315\u001b[0m     \u001b[1;31m# from the passed graph with the passed external GraphViz command.\u001b[0m\u001b[1;33m\u001b[0m\u001b[1;33m\u001b[0m\u001b[1;33m\u001b[0m\u001b[0m\n\u001b[1;32m--> 316\u001b[1;33m     \u001b[0mD_bytes\u001b[0m \u001b[1;33m=\u001b[0m \u001b[0mP\u001b[0m\u001b[1;33m.\u001b[0m\u001b[0mcreate_dot\u001b[0m\u001b[1;33m(\u001b[0m\u001b[0mprog\u001b[0m\u001b[1;33m=\u001b[0m\u001b[0mprog\u001b[0m\u001b[1;33m)\u001b[0m\u001b[1;33m\u001b[0m\u001b[1;33m\u001b[0m\u001b[0m\n\u001b[0m\u001b[0;32m    317\u001b[0m \u001b[1;33m\u001b[0m\u001b[0m\n\u001b[0;32m    318\u001b[0m     \u001b[1;31m# Unique string decoded from these bytes with the preferred locale encoding\u001b[0m\u001b[1;33m\u001b[0m\u001b[1;33m\u001b[0m\u001b[1;33m\u001b[0m\u001b[0m\n",
      "\u001b[1;32mC:\\ProgramData\\Anaconda3\\lib\\site-packages\\pydot.py\u001b[0m in \u001b[0;36mnew_method\u001b[1;34m(f, prog, encoding)\u001b[0m\n\u001b[0;32m   1721\u001b[0m                 \u001b[1;34m\"\"\"Refer to docstring of method `create`.\"\"\"\u001b[0m\u001b[1;33m\u001b[0m\u001b[1;33m\u001b[0m\u001b[0m\n\u001b[0;32m   1722\u001b[0m                 return self.create(\n\u001b[1;32m-> 1723\u001b[1;33m                     format=f, prog=prog, encoding=encoding)\n\u001b[0m\u001b[0;32m   1724\u001b[0m             \u001b[0mname\u001b[0m \u001b[1;33m=\u001b[0m \u001b[1;34m'create_{fmt}'\u001b[0m\u001b[1;33m.\u001b[0m\u001b[0mformat\u001b[0m\u001b[1;33m(\u001b[0m\u001b[0mfmt\u001b[0m\u001b[1;33m=\u001b[0m\u001b[0mfrmt\u001b[0m\u001b[1;33m)\u001b[0m\u001b[1;33m\u001b[0m\u001b[1;33m\u001b[0m\u001b[0m\n\u001b[0;32m   1725\u001b[0m             \u001b[0mself\u001b[0m\u001b[1;33m.\u001b[0m\u001b[0m__setattr__\u001b[0m\u001b[1;33m(\u001b[0m\u001b[0mname\u001b[0m\u001b[1;33m,\u001b[0m \u001b[0mnew_method\u001b[0m\u001b[1;33m)\u001b[0m\u001b[1;33m\u001b[0m\u001b[1;33m\u001b[0m\u001b[0m\n",
      "\u001b[1;32mC:\\ProgramData\\Anaconda3\\lib\\site-packages\\pydot.py\u001b[0m in \u001b[0;36mcreate\u001b[1;34m(self, prog, format, encoding)\u001b[0m\n\u001b[0;32m   1920\u001b[0m                 args[1] = '\"{prog}\" not found in path.'.format(\n\u001b[0;32m   1921\u001b[0m                     prog=prog)\n\u001b[1;32m-> 1922\u001b[1;33m                 \u001b[1;32mraise\u001b[0m \u001b[0mOSError\u001b[0m\u001b[1;33m(\u001b[0m\u001b[1;33m*\u001b[0m\u001b[0margs\u001b[0m\u001b[1;33m)\u001b[0m\u001b[1;33m\u001b[0m\u001b[1;33m\u001b[0m\u001b[0m\n\u001b[0m\u001b[0;32m   1923\u001b[0m             \u001b[1;32melse\u001b[0m\u001b[1;33m:\u001b[0m\u001b[1;33m\u001b[0m\u001b[1;33m\u001b[0m\u001b[0m\n\u001b[0;32m   1924\u001b[0m                 \u001b[1;32mraise\u001b[0m\u001b[1;33m\u001b[0m\u001b[1;33m\u001b[0m\u001b[0m\n",
      "\u001b[1;31mFileNotFoundError\u001b[0m: [WinError 2] \"dot\" not found in path."
     ]
    },
    {
     "data": {
      "text/plain": [
       "<Figure size 864x864 with 0 Axes>"
      ]
     },
     "metadata": {},
     "output_type": "display_data"
    }
   ],
   "source": [
    "#Plot the ground truth tree\n",
    "plt.figure(3, figsize=(12,12))\n",
    "pos = graphviz_layout(tree, prog = \"dot\")\n",
    "nx.draw(tree, pos = pos, with_labels=True, node_color = \"grey\", node_size = 60, verticalalignment = \"bottom\",\n",
    "       font_size=20, edge_color=\"grey\", font_color=\"green\")\n",
    "plt.show()"
   ]
  },
  {
   "cell_type": "code",
   "execution_count": 166,
   "metadata": {},
   "outputs": [
    {
     "data": {
      "text/plain": [
       "(array([0.02677473, 0.02395633, 0.04509428, 0.06200463, 0.09018855,\n",
       "        0.09300695, 0.08455177, 0.15923916, 0.15923916, 0.17333113,\n",
       "        0.19165068, 0.21701621, 0.20574264, 0.28324843, 0.2550645 ,\n",
       "        0.29734039, 0.29029441, 0.38471055, 0.4030301 , 0.37202778,\n",
       "        0.38893814, 0.43403241, 0.44953357, 0.42134965, 0.44389679,\n",
       "        0.38752894, 0.41289447, 0.37061859, 0.36357261, 0.35793582,\n",
       "        0.41853125, 0.39175653, 0.39316572, 0.35229904, 0.3649818 ,\n",
       "        0.32693351, 0.26774727, 0.23815415, 0.22828978, 0.15923916,\n",
       "        0.10428051, 0.0746874 , 0.04932187, 0.02818392, 0.01268277,\n",
       "        0.00422759, 0.00563678, 0.0014092 , 0.00281839, 0.0014092 ]),\n",
       " array([0.00650108, 0.09520413, 0.18390718, 0.27261023, 0.36131329,\n",
       "        0.45001634, 0.53871939, 0.62742245, 0.7161255 , 0.80482855,\n",
       "        0.8935316 , 0.98223466, 1.07093771, 1.15964076, 1.24834381,\n",
       "        1.33704687, 1.42574992, 1.51445297, 1.60315603, 1.69185908,\n",
       "        1.78056213, 1.86926518, 1.95796824, 2.04667129, 2.13537434,\n",
       "        2.2240774 , 2.31278045, 2.4014835 , 2.49018655, 2.57888961,\n",
       "        2.66759266, 2.75629571, 2.84499876, 2.93370182, 3.02240487,\n",
       "        3.11110792, 3.19981098, 3.28851403, 3.37721708, 3.46592013,\n",
       "        3.55462319, 3.64332624, 3.73202929, 3.82073235, 3.9094354 ,\n",
       "        3.99813845, 4.0868415 , 4.17554456, 4.26424761, 4.35295066,\n",
       "        4.44165371]),\n",
       " <a list of 50 Patch objects>)"
      ]
     },
     "execution_count": 166,
     "metadata": {},
     "output_type": "execute_result"
    },
    {
     "data": {
      "image/png": "[encoded data removed]",
      "text/plain": [
       "<Figure size 432x288 with 1 Axes>"
      ]
     },
     "metadata": {
      "needs_background": "light"
     },
     "output_type": "display_data"
    }
   ],
   "source": [
    " plt.hist(ccs, 50, density=True, facecolor='g', alpha=0.75)"
   ]
  },
  {
   "cell_type": "code",
   "execution_count": 167,
   "metadata": {},
   "outputs": [
    {
     "data": {
      "text/plain": [
       "(array([1.14964977, 1.208851  , 1.09426797, 1.03506674, 1.06753193,\n",
       "        0.94531003, 0.87083105, 0.85555332, 0.80399095, 0.76006745,\n",
       "        0.71423424, 0.6206581 , 0.47170015, 0.53663054, 0.35902684,\n",
       "        0.38576288, 0.32274221, 0.29409645, 0.25972154, 0.20624946,\n",
       "        0.1776037 , 0.14131907, 0.11458303, 0.12031219, 0.09548586,\n",
       "        0.07065954, 0.07256925, 0.05920123, 0.06302067, 0.05347208,\n",
       "        0.05347208, 0.04583321, 0.04201378, 0.02482632, 0.03819434,\n",
       "        0.02864576, 0.01909717, 0.02673604, 0.01527774, 0.01527774,\n",
       "        0.00572915, 0.00381943, 0.00954859, 0.00190972, 0.00381943,\n",
       "        0.00381943, 0.00190972, 0.00381943, 0.00190972, 0.00190972]),\n",
       " array([5.02528651e-05, 6.55049697e-02, 1.30959686e-01, 1.96414403e-01,\n",
       "        2.61869120e-01, 3.27323837e-01, 3.92778554e-01, 4.58233270e-01,\n",
       "        5.23687987e-01, 5.89142704e-01, 6.54597421e-01, 7.20052138e-01,\n",
       "        7.85506854e-01, 8.50961571e-01, 9.16416288e-01, 9.81871005e-01,\n",
       "        1.04732572e+00, 1.11278044e+00, 1.17823516e+00, 1.24368987e+00,\n",
       "        1.30914459e+00, 1.37459931e+00, 1.44005402e+00, 1.50550874e+00,\n",
       "        1.57096346e+00, 1.63641817e+00, 1.70187289e+00, 1.76732761e+00,\n",
       "        1.83278232e+00, 1.89823704e+00, 1.96369176e+00, 2.02914647e+00,\n",
       "        2.09460119e+00, 2.16005591e+00, 2.22551062e+00, 2.29096534e+00,\n",
       "        2.35642006e+00, 2.42187477e+00, 2.48732949e+00, 2.55278421e+00,\n",
       "        2.61823892e+00, 2.68369364e+00, 2.74914836e+00, 2.81460307e+00,\n",
       "        2.88005779e+00, 2.94551251e+00, 3.01096723e+00, 3.07642194e+00,\n",
       "        3.14187666e+00, 3.20733138e+00, 3.27278609e+00]),\n",
       " <a list of 50 Patch objects>)"
      ]
     },
     "execution_count": 167,
     "metadata": {},
     "output_type": "execute_result"
    },
    {
     "data": {
      "image/png": "[encoded data removed]",
      "text/plain": [
       "<Figure size 432x288 with 1 Axes>"
      ]
     },
     "metadata": {
      "needs_background": "light"
     },
     "output_type": "display_data"
    }
   ],
   "source": [
    " plt.hist(diffs, 50, density=True, facecolor='g', alpha=0.75)"
   ]
  },
  {
   "cell_type": "code",
   "execution_count": null,
   "metadata": {},
   "outputs": [],
   "source": []
  }
 ],
 "metadata": {
  "kernelspec": {
   "display_name": "Python 3",
   "language": "python",
   "name": "python3"
  },
  "language_info": {
   "codemirror_mode": {
    "name": "ipython",
    "version": 3
   },
   "file_extension": ".py",
   "mimetype": "text/x-python",
   "name": "python",
   "nbconvert_exporter": "python",
   "pygments_lexer": "ipython3",
   "version": "3.7.6"
  }
 },
 "nbformat": 4,
 "nbformat_minor": 4
}
