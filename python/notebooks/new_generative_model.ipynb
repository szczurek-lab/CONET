{
 "cells": [
  {
   "cell_type": "code",
   "execution_count": 177,
   "metadata": {},
   "outputs": [],
   "source": [
    "import numpy as np\n",
    "import networkx as nx\n",
    "import random\n",
    "import networkx as nx\n",
    "import matplotlib.pyplot as plt\n",
    "from networkx.drawing.nx_pydot import graphviz_layout\n",
    "import numpy as np\n",
    "\n",
    "\n",
    "class NodeLabel:\n",
    "    def __init__(self, start, end, copy_number):\n",
    "        self.start = start\n",
    "        self.end = end\n",
    "        self.copy_number = copy_number\n",
    "    \n",
    "    def get_event(self):\n",
    "        return (self.start, self.end)\n",
    "    \n",
    "    def to_string(self):\n",
    "        return \"(\" + str(self.start) + \",\" + str(self.end) + \") CN:\" + str(self.copy_number)\n",
    "    \n",
    "    def overlaps(self, node_label):\n",
    "        return (self.start >= node_label.start and self.start < node_label.end)\\\n",
    "                or (self.end > node_label.start and self.end < node_label.end)\n",
    "            \n",
    "class CNSampler:\n",
    "    #should not contain CN=2\n",
    "    def __init__(self, CN_to_weight, CN_to_sd):\n",
    "        self.CN_to_weight = CN_to_weight\n",
    "        sum_ = sum(list(CN_to_weight.values()))\n",
    "        for key in self.CN_to_weight.keys():\n",
    "            self.CN_to_weight[key] = self.CN_to_weight[key] / sum_\n",
    "        self.CN_to_sd = CN_to_sd\n",
    "        self.NEUTRAL_CN = 2 \n",
    "        \n",
    "    def sample_CN(self):\n",
    "        return np.random.choice(list(self.CN_to_weight.keys()), 1, p = list(self.CN_to_weight.values()))[0]\n",
    "    \n",
    "    def sample_corrected_count(self, count): \n",
    "        cc = count + np.random.normal(0, self.CN_to_sd[int(count)], 1)\n",
    "        while cc < 0:\n",
    "            cc = count + np.random.normal(0, self.CN_to_sd[int(count)], 1)\n",
    "        return cc"
   ]
  },
  {
   "cell_type": "code",
   "execution_count": 178,
   "metadata": {},
   "outputs": [],
   "source": [
    "class TreeGenerator:\n",
    "    def __init__(self, cn_sampler):\n",
    "        self.cn_sampler = cn_sampler\n",
    "        \n",
    "    def generate_random_tree(self, no_loci, tree_size):\n",
    "        tree_nodes_list = self.__sample_node_labels(tree_size, no_loci)\n",
    "        tree = self.__random_tree(tree_nodes_list)\n",
    "        while not self.__check_valid(tree):\n",
    "            tree_nodes_list = self.__sample_node_labels(tree_size, no_loci)\n",
    "            tree = self.__random_tree(tree_nodes_list)\n",
    "        return tree\n",
    "    \n",
    "    def __sample_node_label(self, labels):\n",
    "        norming_constant = 0\n",
    "        for z in labels:\n",
    "            norming_constant += np.exp(0.1 * (z[0] - z[1]))\n",
    "        while True:\n",
    "            label = random.sample(labels, 1)[0]\n",
    "            if np.random.uniform() < np.exp(0.1 * (label[0] - label[1])) / norming_constant:\n",
    "                return label\n",
    "\n",
    "    def __sample_node_labels(self, tree_size, no_loci):\n",
    "        candidates = list(filter(lambda x: x[0] < x[1], [(a, b) for a in range(0, no_loci) for b in range(0, no_loci)]))\n",
    "        result = list()\n",
    "        for n in range(0, tree_size):\n",
    "            label = self.__sample_node_label(candidates)\n",
    "            candidates.remove(label)\n",
    "            result.append(NodeLabel(label[0], label[1], self.cn_sampler.sample_CN()))\n",
    "        result.insert(0, NodeLabel(0, 0, self.cn_sampler.NEUTRAL_CN))\n",
    "        return result\n",
    "    \n",
    "    def __random_tree(self, nodes):\n",
    "        tree = nx.DiGraph()\n",
    "        bit_map = np.zeros(len(nodes))\n",
    "        bit_map[0] = 1\n",
    "        visited = 1\n",
    "        current_node = 0\n",
    "        while len(nodes) > visited:\n",
    "            new_node = random.sample(range(0, len(nodes)), 1)[0]\n",
    "            if bit_map[new_node] == 0.0:\n",
    "                bit_map[new_node] = 1.0\n",
    "                tree.add_edge(nodes[current_node], nodes[new_node])\n",
    "                visited += 1\n",
    "            current_node = new_node\n",
    "        return tree\n",
    "    \n",
    "    def __check_valid(self, tree):\n",
    "        for node in tree:\n",
    "            if node.copy_number == 0:\n",
    "                children = [x[1] for x in list(nx.edge_dfs(tree,list(tree.nodes)[0]))]\n",
    "                for c in children:\n",
    "                    if c.copy_number > 0 and node.overlaps(c):\n",
    "                        return False\n",
    "        return True"
   ]
  },
  {
   "cell_type": "code",
   "execution_count": 179,
   "metadata": {},
   "outputs": [],
   "source": [
    "class CountsGenerator:\n",
    "    def __init__(self, cn_sampler):\n",
    "        self.cn_sampler = cn_sampler\n",
    "        \n",
    "    def generate_data(self, no_loci, tree, no_of_cells):\n",
    "        counts = np.zeros([0, no_loci], dtype=np.float64)\n",
    "        \n",
    "        node_to_counts = self.__fill_node_to_counts(tree, no_loci)\n",
    "        \n",
    "        attachment_probs = np.random.dirichlet(np.ones(len(tree.nodes) - 1)).transpose()\n",
    "        attachment = []\n",
    "        \n",
    "        for cell in range(0, no_of_cells):\n",
    "            attachment_node = random.choices(list(tree.nodes)[1:], k=1, weights=list(attachment_probs))[0]\n",
    "            counts = np.vstack([counts, node_to_counts[attachment_node]])\n",
    "            attachment.append(attachment_node.get_event())\n",
    "        \n",
    "        corrected_counts = self.__add_noise_to_counts(counts)\n",
    "        diff_matrix = self.__create_diff_matrix(corrected_counts)\n",
    "        return counts, attachment, corrected_counts, diff_matrix\n",
    "    \n",
    "    def __fill_node_to_counts(self, tree, no_loci):\n",
    "        counts = np.zeros([1, no_loci], dtype=np.float64)\n",
    "        counts.fill(self.cn_sampler.NEUTRAL_CN)\n",
    "        node_to_counts = {}\n",
    "        \n",
    "        for node in tree:\n",
    "            path = nx.shortest_path(tree, list(tree.nodes)[0], node)\n",
    "            node_counts = np.copy(counts)\n",
    "            for i in range(0, len(path)):\n",
    "                ancestor = path[i]\n",
    "                for j in range(ancestor.start, ancestor.end):\n",
    "                    node_counts[0, j] = ancestor.copy_number\n",
    "            node_to_counts[node] = node_counts    \n",
    "        return node_to_counts\n",
    "    \n",
    "    def __add_noise_to_counts(self, counts):\n",
    "        cc = np.copy(counts)\n",
    "        for i in range(0, counts.shape[0]):\n",
    "            for j in range(0, counts.shape[1]):\n",
    "                cc[i,j] = self.cn_sampler.sample_corrected_count(counts[i,j])\n",
    "        return cc\n",
    "    \n",
    "    def __create_diff_matrix(self, corrected_counts):\n",
    "        diffs = np.copy(corrected_counts)\n",
    "        \n",
    "        for cell in range(0, diffs.shape[0]):\n",
    "            for loci in range(0, diffs.shape[1]):\n",
    "                if loci == 0:\n",
    "                    diffs[cell, loci] = np.abs(corrected_counts[cell, loci] - self.cn_sampler.NEUTRAL_CN)\n",
    "                else:\n",
    "                    diffs[cell, loci] = np.abs(corrected_counts[cell, loci] - corrected_counts[cell, loci - 1])\n",
    "        return diffs"
   ]
  },
  {
   "cell_type": "code",
   "execution_count": 180,
   "metadata": {},
   "outputs": [],
   "source": [
    "cn_s = \\\n",
    "    CNSampler({0:0.020240121,1: 0.203724532,2: 0.361479297,3: 0.050340118,4: 0.038828672,5: 0.005309126,6: 0.0079,7: 0.00141,8: 0.293, 9: 0.017100587},\n",
    "              {0:0.449,1: 0.116,2: 0.187,3: 0.114,4: 0.279,5: 0.0957,6: 0.4833,7: 0.2760,8: 6.15780,9: 4.72105270})"
   ]
  },
  {
   "cell_type": "code",
   "execution_count": 181,
   "metadata": {},
   "outputs": [],
   "source": [
    "d = TreeGenerator(cn_s)"
   ]
  },
  {
   "cell_type": "code",
   "execution_count": 187,
   "metadata": {},
   "outputs": [],
   "source": [
    "tree = d.generate_random_tree(40, 20)\n",
    "dd = CountsGenerator(cn_s)\n",
    "data = dd.generate_data(40, tree, 200)\n",
    "\n",
    "ccs = data[2]\n",
    "ccs = ccs.flatten()\n",
    "diffs = data[3]\n",
    "diffs = diffs.flatten()"
   ]
  },
  {
   "cell_type": "code",
   "execution_count": null,
   "metadata": {},
   "outputs": [],
   "source": []
  },
  {
   "cell_type": "code",
   "execution_count": 188,
   "metadata": {},
   "outputs": [
    {
     "ename": "FileNotFoundError",
     "evalue": "[WinError 2] \"dot\" not found in path.",
     "output_type": "error",
     "traceback": [
      "\u001b[1;31m---------------------------------------------------------------------------\u001b[0m",
      "\u001b[1;31mFileNotFoundError\u001b[0m                         Traceback (most recent call last)",
      "\u001b[1;32mC:\\ProgramData\\Anaconda3\\lib\\site-packages\\pydot.py\u001b[0m in \u001b[0;36mcreate\u001b[1;34m(self, prog, format, encoding)\u001b[0m\n\u001b[0;32m   1914\u001b[0m                 \u001b[0marguments\u001b[0m\u001b[1;33m=\u001b[0m\u001b[0marguments\u001b[0m\u001b[1;33m,\u001b[0m\u001b[1;33m\u001b[0m\u001b[1;33m\u001b[0m\u001b[0m\n\u001b[1;32m-> 1915\u001b[1;33m                 \u001b[0mworking_dir\u001b[0m\u001b[1;33m=\u001b[0m\u001b[0mtmp_dir\u001b[0m\u001b[1;33m,\u001b[0m\u001b[1;33m\u001b[0m\u001b[1;33m\u001b[0m\u001b[0m\n\u001b[0m\u001b[0;32m   1916\u001b[0m             )\n",
      "\u001b[1;32mC:\\ProgramData\\Anaconda3\\lib\\site-packages\\pydot.py\u001b[0m in \u001b[0;36mcall_graphviz\u001b[1;34m(program, arguments, working_dir, **kwargs)\u001b[0m\n\u001b[0;32m    135\u001b[0m         \u001b[0mstdout\u001b[0m\u001b[1;33m=\u001b[0m\u001b[0msubprocess\u001b[0m\u001b[1;33m.\u001b[0m\u001b[0mPIPE\u001b[0m\u001b[1;33m,\u001b[0m\u001b[1;33m\u001b[0m\u001b[1;33m\u001b[0m\u001b[0m\n\u001b[1;32m--> 136\u001b[1;33m         \u001b[1;33m**\u001b[0m\u001b[0mkwargs\u001b[0m\u001b[1;33m\u001b[0m\u001b[1;33m\u001b[0m\u001b[0m\n\u001b[0m\u001b[0;32m    137\u001b[0m     )\n",
      "\u001b[1;32mC:\\ProgramData\\Anaconda3\\lib\\subprocess.py\u001b[0m in \u001b[0;36m__init__\u001b[1;34m(self, args, bufsize, executable, stdin, stdout, stderr, preexec_fn, close_fds, shell, cwd, env, universal_newlines, startupinfo, creationflags, restore_signals, start_new_session, pass_fds, encoding, errors, text)\u001b[0m\n\u001b[0;32m    799\u001b[0m                                 \u001b[0merrread\u001b[0m\u001b[1;33m,\u001b[0m \u001b[0merrwrite\u001b[0m\u001b[1;33m,\u001b[0m\u001b[1;33m\u001b[0m\u001b[1;33m\u001b[0m\u001b[0m\n\u001b[1;32m--> 800\u001b[1;33m                                 restore_signals, start_new_session)\n\u001b[0m\u001b[0;32m    801\u001b[0m         \u001b[1;32mexcept\u001b[0m\u001b[1;33m:\u001b[0m\u001b[1;33m\u001b[0m\u001b[1;33m\u001b[0m\u001b[0m\n",
      "\u001b[1;32mC:\\ProgramData\\Anaconda3\\lib\\subprocess.py\u001b[0m in \u001b[0;36m_execute_child\u001b[1;34m(self, args, executable, preexec_fn, close_fds, pass_fds, cwd, env, startupinfo, creationflags, shell, p2cread, p2cwrite, c2pread, c2pwrite, errread, errwrite, unused_restore_signals, unused_start_new_session)\u001b[0m\n\u001b[0;32m   1206\u001b[0m                                          \u001b[0mos\u001b[0m\u001b[1;33m.\u001b[0m\u001b[0mfspath\u001b[0m\u001b[1;33m(\u001b[0m\u001b[0mcwd\u001b[0m\u001b[1;33m)\u001b[0m \u001b[1;32mif\u001b[0m \u001b[0mcwd\u001b[0m \u001b[1;32mis\u001b[0m \u001b[1;32mnot\u001b[0m \u001b[1;32mNone\u001b[0m \u001b[1;32melse\u001b[0m \u001b[1;32mNone\u001b[0m\u001b[1;33m,\u001b[0m\u001b[1;33m\u001b[0m\u001b[1;33m\u001b[0m\u001b[0m\n\u001b[1;32m-> 1207\u001b[1;33m                                          startupinfo)\n\u001b[0m\u001b[0;32m   1208\u001b[0m             \u001b[1;32mfinally\u001b[0m\u001b[1;33m:\u001b[0m\u001b[1;33m\u001b[0m\u001b[1;33m\u001b[0m\u001b[0m\n",
      "\u001b[1;31mFileNotFoundError\u001b[0m: [WinError 2] Nie można odnaleźć określonego pliku",
      "\nDuring handling of the above exception, another exception occurred:\n",
      "\u001b[1;31mFileNotFoundError\u001b[0m                         Traceback (most recent call last)",
      "\u001b[1;32m<ipython-input-188-0169f031038a>\u001b[0m in \u001b[0;36m<module>\u001b[1;34m\u001b[0m\n\u001b[0;32m      1\u001b[0m \u001b[1;31m#Plot the ground truth tree\u001b[0m\u001b[1;33m\u001b[0m\u001b[1;33m\u001b[0m\u001b[1;33m\u001b[0m\u001b[0m\n\u001b[0;32m      2\u001b[0m \u001b[0mplt\u001b[0m\u001b[1;33m.\u001b[0m\u001b[0mfigure\u001b[0m\u001b[1;33m(\u001b[0m\u001b[1;36m3\u001b[0m\u001b[1;33m,\u001b[0m \u001b[0mfigsize\u001b[0m\u001b[1;33m=\u001b[0m\u001b[1;33m(\u001b[0m\u001b[1;36m12\u001b[0m\u001b[1;33m,\u001b[0m\u001b[1;36m12\u001b[0m\u001b[1;33m)\u001b[0m\u001b[1;33m)\u001b[0m\u001b[1;33m\u001b[0m\u001b[1;33m\u001b[0m\u001b[0m\n\u001b[1;32m----> 3\u001b[1;33m \u001b[0mpos\u001b[0m \u001b[1;33m=\u001b[0m \u001b[0mgraphviz_layout\u001b[0m\u001b[1;33m(\u001b[0m\u001b[0mtree\u001b[0m\u001b[1;33m,\u001b[0m \u001b[0mprog\u001b[0m \u001b[1;33m=\u001b[0m \u001b[1;34m\"dot\"\u001b[0m\u001b[1;33m)\u001b[0m\u001b[1;33m\u001b[0m\u001b[1;33m\u001b[0m\u001b[0m\n\u001b[0m\u001b[0;32m      4\u001b[0m nx.draw(tree, pos = pos, with_labels=True, node_color = \"grey\", node_size = 60, verticalalignment = \"bottom\",\n\u001b[0;32m      5\u001b[0m        font_size=20, edge_color=\"grey\", font_color=\"green\")\n",
      "\u001b[1;32mC:\\ProgramData\\Anaconda3\\lib\\site-packages\\networkx\\drawing\\nx_pydot.py\u001b[0m in \u001b[0;36mgraphviz_layout\u001b[1;34m(G, prog, root)\u001b[0m\n\u001b[0;32m    266\u001b[0m     \u001b[0mThis\u001b[0m \u001b[1;32mis\u001b[0m \u001b[0ma\u001b[0m \u001b[0mwrapper\u001b[0m \u001b[1;32mfor\u001b[0m \u001b[0mpydot_layout\u001b[0m\u001b[1;33m.\u001b[0m\u001b[1;33m\u001b[0m\u001b[1;33m\u001b[0m\u001b[0m\n\u001b[0;32m    267\u001b[0m     \"\"\"\n\u001b[1;32m--> 268\u001b[1;33m     \u001b[1;32mreturn\u001b[0m \u001b[0mpydot_layout\u001b[0m\u001b[1;33m(\u001b[0m\u001b[0mG\u001b[0m\u001b[1;33m=\u001b[0m\u001b[0mG\u001b[0m\u001b[1;33m,\u001b[0m \u001b[0mprog\u001b[0m\u001b[1;33m=\u001b[0m\u001b[0mprog\u001b[0m\u001b[1;33m,\u001b[0m \u001b[0mroot\u001b[0m\u001b[1;33m=\u001b[0m\u001b[0mroot\u001b[0m\u001b[1;33m)\u001b[0m\u001b[1;33m\u001b[0m\u001b[1;33m\u001b[0m\u001b[0m\n\u001b[0m\u001b[0;32m    269\u001b[0m \u001b[1;33m\u001b[0m\u001b[0m\n\u001b[0;32m    270\u001b[0m \u001b[1;33m\u001b[0m\u001b[0m\n",
      "\u001b[1;32mC:\\ProgramData\\Anaconda3\\lib\\site-packages\\networkx\\drawing\\nx_pydot.py\u001b[0m in \u001b[0;36mpydot_layout\u001b[1;34m(G, prog, root)\u001b[0m\n\u001b[0;32m    314\u001b[0m     \u001b[1;31m# List of low-level bytes comprising a string in the dot language converted\u001b[0m\u001b[1;33m\u001b[0m\u001b[1;33m\u001b[0m\u001b[1;33m\u001b[0m\u001b[0m\n\u001b[0;32m    315\u001b[0m     \u001b[1;31m# from the passed graph with the passed external GraphViz command.\u001b[0m\u001b[1;33m\u001b[0m\u001b[1;33m\u001b[0m\u001b[1;33m\u001b[0m\u001b[0m\n\u001b[1;32m--> 316\u001b[1;33m     \u001b[0mD_bytes\u001b[0m \u001b[1;33m=\u001b[0m \u001b[0mP\u001b[0m\u001b[1;33m.\u001b[0m\u001b[0mcreate_dot\u001b[0m\u001b[1;33m(\u001b[0m\u001b[0mprog\u001b[0m\u001b[1;33m=\u001b[0m\u001b[0mprog\u001b[0m\u001b[1;33m)\u001b[0m\u001b[1;33m\u001b[0m\u001b[1;33m\u001b[0m\u001b[0m\n\u001b[0m\u001b[0;32m    317\u001b[0m \u001b[1;33m\u001b[0m\u001b[0m\n\u001b[0;32m    318\u001b[0m     \u001b[1;31m# Unique string decoded from these bytes with the preferred locale encoding\u001b[0m\u001b[1;33m\u001b[0m\u001b[1;33m\u001b[0m\u001b[1;33m\u001b[0m\u001b[0m\n",
      "\u001b[1;32mC:\\ProgramData\\Anaconda3\\lib\\site-packages\\pydot.py\u001b[0m in \u001b[0;36mnew_method\u001b[1;34m(f, prog, encoding)\u001b[0m\n\u001b[0;32m   1721\u001b[0m                 \u001b[1;34m\"\"\"Refer to docstring of method `create`.\"\"\"\u001b[0m\u001b[1;33m\u001b[0m\u001b[1;33m\u001b[0m\u001b[0m\n\u001b[0;32m   1722\u001b[0m                 return self.create(\n\u001b[1;32m-> 1723\u001b[1;33m                     format=f, prog=prog, encoding=encoding)\n\u001b[0m\u001b[0;32m   1724\u001b[0m             \u001b[0mname\u001b[0m \u001b[1;33m=\u001b[0m \u001b[1;34m'create_{fmt}'\u001b[0m\u001b[1;33m.\u001b[0m\u001b[0mformat\u001b[0m\u001b[1;33m(\u001b[0m\u001b[0mfmt\u001b[0m\u001b[1;33m=\u001b[0m\u001b[0mfrmt\u001b[0m\u001b[1;33m)\u001b[0m\u001b[1;33m\u001b[0m\u001b[1;33m\u001b[0m\u001b[0m\n\u001b[0;32m   1725\u001b[0m             \u001b[0mself\u001b[0m\u001b[1;33m.\u001b[0m\u001b[0m__setattr__\u001b[0m\u001b[1;33m(\u001b[0m\u001b[0mname\u001b[0m\u001b[1;33m,\u001b[0m \u001b[0mnew_method\u001b[0m\u001b[1;33m)\u001b[0m\u001b[1;33m\u001b[0m\u001b[1;33m\u001b[0m\u001b[0m\n",
      "\u001b[1;32mC:\\ProgramData\\Anaconda3\\lib\\site-packages\\pydot.py\u001b[0m in \u001b[0;36mcreate\u001b[1;34m(self, prog, format, encoding)\u001b[0m\n\u001b[0;32m   1920\u001b[0m                 args[1] = '\"{prog}\" not found in path.'.format(\n\u001b[0;32m   1921\u001b[0m                     prog=prog)\n\u001b[1;32m-> 1922\u001b[1;33m                 \u001b[1;32mraise\u001b[0m \u001b[0mOSError\u001b[0m\u001b[1;33m(\u001b[0m\u001b[1;33m*\u001b[0m\u001b[0margs\u001b[0m\u001b[1;33m)\u001b[0m\u001b[1;33m\u001b[0m\u001b[1;33m\u001b[0m\u001b[0m\n\u001b[0m\u001b[0;32m   1923\u001b[0m             \u001b[1;32melse\u001b[0m\u001b[1;33m:\u001b[0m\u001b[1;33m\u001b[0m\u001b[1;33m\u001b[0m\u001b[0m\n\u001b[0;32m   1924\u001b[0m                 \u001b[1;32mraise\u001b[0m\u001b[1;33m\u001b[0m\u001b[1;33m\u001b[0m\u001b[0m\n",
      "\u001b[1;31mFileNotFoundError\u001b[0m: [WinError 2] \"dot\" not found in path."
     ]
    },
    {
     "data": {
      "text/plain": [
       "<Figure size 864x864 with 0 Axes>"
      ]
     },
     "metadata": {},
     "output_type": "display_data"
    }
   ],
   "source": [
    "#Plot the ground truth tree\n",
    "plt.figure(3, figsize=(12,12))\n",
    "pos = graphviz_layout(tree, prog = \"dot\")\n",
    "nx.draw(tree, pos = pos, with_labels=True, node_color = \"grey\", node_size = 60, verticalalignment = \"bottom\",\n",
    "       font_size=20, edge_color=\"grey\", font_color=\"green\")\n",
    "plt.show()"
   ]
  },
  {
   "cell_type": "code",
   "execution_count": 189,
   "metadata": {},
   "outputs": [
    {
     "data": {
      "text/plain": [
       "(array([5.07335505e-03, 1.13819618e-01, 8.88940037e-02, 1.02856759e+00,\n",
       "        9.85995525e-02, 8.60264552e-03, 7.94090356e-03, 1.12496134e-02,\n",
       "        1.22422263e-01, 4.36749696e-02, 3.81604532e-02, 2.86754851e-02,\n",
       "        1.47789038e-02, 1.10290327e-02, 8.82322618e-03, 1.12496134e-02,\n",
       "        1.21319360e-02, 1.16907747e-02, 9.04380683e-03, 8.82322618e-03,\n",
       "        9.04380683e-03, 8.82322618e-03, 6.61741963e-03, 7.72032290e-03,\n",
       "        5.29393571e-03, 5.29393571e-03, 5.29393571e-03, 4.63219374e-03,\n",
       "        3.97045178e-03, 4.63219374e-03, 3.97045178e-03, 1.54406458e-03,\n",
       "        2.64696785e-03, 2.20580654e-03, 2.42638720e-03, 1.10290327e-03,\n",
       "        1.10290327e-03, 1.10290327e-03, 8.82322618e-04, 6.61741963e-04,\n",
       "        1.10290327e-03, 2.20580654e-04, 0.00000000e+00, 4.41161309e-04,\n",
       "        0.00000000e+00, 0.00000000e+00, 0.00000000e+00, 2.20580654e-04,\n",
       "        0.00000000e+00, 4.41161309e-04]),\n",
       " array([1.44082524e-03, 5.68126967e-01, 1.13481311e+00, 1.70149925e+00,\n",
       "        2.26818539e+00, 2.83487153e+00, 3.40155768e+00, 3.96824382e+00,\n",
       "        4.53492996e+00, 5.10161610e+00, 5.66830224e+00, 6.23498839e+00,\n",
       "        6.80167453e+00, 7.36836067e+00, 7.93504681e+00, 8.50173295e+00,\n",
       "        9.06841910e+00, 9.63510524e+00, 1.02017914e+01, 1.07684775e+01,\n",
       "        1.13351637e+01, 1.19018498e+01, 1.24685359e+01, 1.30352221e+01,\n",
       "        1.36019082e+01, 1.41685944e+01, 1.47352805e+01, 1.53019667e+01,\n",
       "        1.58686528e+01, 1.64353389e+01, 1.70020251e+01, 1.75687112e+01,\n",
       "        1.81353974e+01, 1.87020835e+01, 1.92687696e+01, 1.98354558e+01,\n",
       "        2.04021419e+01, 2.09688281e+01, 2.15355142e+01, 2.21022004e+01,\n",
       "        2.26688865e+01, 2.32355726e+01, 2.38022588e+01, 2.43689449e+01,\n",
       "        2.49356311e+01, 2.55023172e+01, 2.60690034e+01, 2.66356895e+01,\n",
       "        2.72023756e+01, 2.77690618e+01, 2.83357479e+01]),\n",
       " <a list of 50 Patch objects>)"
      ]
     },
     "execution_count": 189,
     "metadata": {},
     "output_type": "execute_result"
    },
    {
     "data": {
      "image/png": "[encoded data removed]",
      "text/plain": [
       "<Figure size 432x288 with 1 Axes>"
      ]
     },
     "metadata": {
      "needs_background": "light"
     },
     "output_type": "display_data"
    }
   ],
   "source": [
    " plt.hist(ccs, 50, density=True, facecolor='g', alpha=0.75)"
   ]
  },
  {
   "cell_type": "code",
   "execution_count": 190,
   "metadata": {},
   "outputs": [
    {
     "data": {
      "text/plain": [
       "(array([1.41246814e+00, 1.03177774e-01, 3.48669718e-02, 2.27702673e-02,\n",
       "        1.75520810e-02, 2.63281216e-02, 3.13091175e-02, 3.48669718e-02,\n",
       "        2.94115953e-02, 1.61289393e-02, 1.44686073e-02, 1.18595142e-02,\n",
       "        1.37570365e-02, 1.04363725e-02, 1.13851336e-02, 9.48761137e-03,\n",
       "        1.09107531e-02, 9.01323080e-03, 8.77604052e-03, 9.48761137e-03,\n",
       "        6.16694739e-03, 5.92975711e-03, 6.64132796e-03, 5.69256682e-03,\n",
       "        4.50661540e-03, 4.03223483e-03, 4.74380569e-03, 3.08347370e-03,\n",
       "        2.60909313e-03, 1.89752227e-03, 2.13471256e-03, 3.08347370e-03,\n",
       "        1.18595142e-03, 9.48761137e-04, 9.48761137e-04, 1.18595142e-03,\n",
       "        9.48761137e-04, 0.00000000e+00, 7.11570853e-04, 4.74380569e-04,\n",
       "        4.74380569e-04, 4.74380569e-04, 2.37190284e-04, 2.37190284e-04,\n",
       "        2.37190284e-04, 0.00000000e+00, 0.00000000e+00, 0.00000000e+00,\n",
       "        2.37190284e-04, 2.37190284e-04]),\n",
       " array([8.74093458e-06, 5.27011777e-01, 1.05401481e+00, 1.58101785e+00,\n",
       "        2.10802089e+00, 2.63502392e+00, 3.16202696e+00, 3.68902999e+00,\n",
       "        4.21603303e+00, 4.74303607e+00, 5.27003910e+00, 5.79704214e+00,\n",
       "        6.32404518e+00, 6.85104821e+00, 7.37805125e+00, 7.90505429e+00,\n",
       "        8.43205732e+00, 8.95906036e+00, 9.48606339e+00, 1.00130664e+01,\n",
       "        1.05400695e+01, 1.10670725e+01, 1.15940755e+01, 1.21210786e+01,\n",
       "        1.26480816e+01, 1.31750846e+01, 1.37020877e+01, 1.42290907e+01,\n",
       "        1.47560938e+01, 1.52830968e+01, 1.58100998e+01, 1.63371029e+01,\n",
       "        1.68641059e+01, 1.73911089e+01, 1.79181120e+01, 1.84451150e+01,\n",
       "        1.89721180e+01, 1.94991211e+01, 2.00261241e+01, 2.05531272e+01,\n",
       "        2.10801302e+01, 2.16071332e+01, 2.21341363e+01, 2.26611393e+01,\n",
       "        2.31881423e+01, 2.37151454e+01, 2.42421484e+01, 2.47691514e+01,\n",
       "        2.52961545e+01, 2.58231575e+01, 2.63501606e+01]),\n",
       " <a list of 50 Patch objects>)"
      ]
     },
     "execution_count": 190,
     "metadata": {},
     "output_type": "execute_result"
    },
    {
     "data": {
      "image/png": "[encoded data removed]",
      "text/plain": [
       "<Figure size 432x288 with 1 Axes>"
      ]
     },
     "metadata": {
      "needs_background": "light"
     },
     "output_type": "display_data"
    }
   ],
   "source": [
    " plt.hist(diffs, 50, density=True, facecolor='g', alpha=0.75)"
   ]
  },
  {
   "cell_type": "code",
   "execution_count": null,
   "metadata": {},
   "outputs": [],
   "source": []
  },
  {
   "cell_type": "code",
   "execution_count": null,
   "metadata": {},
   "outputs": [],
   "source": []
  }
 ],
 "metadata": {
  "kernelspec": {
   "display_name": "Python 3",
   "language": "python",
   "name": "python3"
  },
  "language_info": {
   "codemirror_mode": {
    "name": "ipython",
    "version": 3
   },
   "file_extension": ".py",
   "mimetype": "text/x-python",
   "name": "python",
   "nbconvert_exporter": "python",
   "pygments_lexer": "ipython3",
   "version": "3.7.6"
  }
 },
 "nbformat": 4,
 "nbformat_minor": 4
}
