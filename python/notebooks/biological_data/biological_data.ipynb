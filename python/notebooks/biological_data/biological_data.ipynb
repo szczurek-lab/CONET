{
 "cells": [
  {
   "cell_type": "code",
   "execution_count": 2,
   "metadata": {},
   "outputs": [],
   "source": [
    "# Set this variable to directory containing CONET executable\n",
    "bin_dir = './'\n",
    "\n",
    "from conet import CorrectedCounts, DataConverter, CONET, CONETParameters\n",
    "\n",
    "# Use DataConverter class to convert corrected counts matrix into CONET specific input files\n",
    "\n",
    "cc = CorrectedCounts(\"data/SA501X3F_filtered_corrected_counts.csv\", delimiter=',')\n",
    "cc.add_chromosome_ends(neutral_cn=2, end_bin_length=150000)\n",
    "data_converter2 = DataConverter(event_length_normalizer=3095677412)\n",
    "data_converter2.create_CoNET_input_files(bin_dir, chromosomes=[17, 18, 20, 23], corrected_counts=cc)\n",
    "# this may take up to 10 minutes\n",
    "conet = CONET(bin_dir + \"CONET\")\n",
    "params = CONETParameters(tree_structure_prior_k1 = 0.5, data_dir = bin_dir, counts_penalty_s1=200000, counts_penalty_s2=200000,\n",
    "                            param_inf_iters=30000, seed = 21567, mixture_size=2, pt_inf_iters=200000, neutral_cn =2.0, output_dir = \"./output/\")\n",
    "conet.infer_tree(params)"
   ]
  },
  {
   "cell_type": "code",
   "execution_count": 3,
   "metadata": {},
   "outputs": [
    {
     "name": "stdout",
     "output_type": "stream",
     "text": [
      "b''\n"
     ]
    }
   ],
   "source": [
    "# this may take up to 10 minutes\n",
    "conet = CONET(bin_dir + \"CONET\")\n",
    "params = CONETParameters(tree_structure_prior_k1 = 0.5, data_dir = bin_dir, counts_penalty_s1=200000, counts_penalty_s2=200000,\n",
    "                            param_inf_iters=30000, seed = 21567, mixture_size=2, pt_inf_iters=200000, neutral_cn =2.0, output_dir = \"./output/\")\n",
    "conet.infer_tree(params)"
   ]
  },
  {
   "cell_type": "code",
   "execution_count": null,
   "metadata": {},
   "outputs": [],
   "source": []
  },
  {
   "cell_type": "code",
   "execution_count": null,
   "metadata": {},
   "outputs": [],
   "source": []
  }
 ],
 "metadata": {
  "celltoolbar": "Raw Cell Format",
  "kernelspec": {
   "display_name": "Python 3 (ipykernel)",
   "language": "python",
   "name": "python3"
  },
  "language_info": {
   "codemirror_mode": {
    "name": "ipython",
    "version": 3
   },
   "file_extension": ".py",
   "mimetype": "text/x-python",
   "name": "python",
   "nbconvert_exporter": "python",
   "pygments_lexer": "ipython3",
   "version": "3.8.5"
  }
 },
 "nbformat": 4,
 "nbformat_minor": 2
}
